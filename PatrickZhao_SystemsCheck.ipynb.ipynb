{
 "cells": [
  {
   "cell_type": "markdown",
   "id": "0e2a7f20-0409-4432-a570-ec8af9f98242",
   "metadata": {},
   "source": [
    "# test\n",
    "\n",
    "## I hope to get a systematic training in interactive data & applications\n",
    "\n",
    "### test1_1\n",
    "\n",
    "**bold text**\n",
    "\n",
    "*italic text*"
   ]
  },
  {
   "cell_type": "code",
   "execution_count": 1,
   "id": "235ba048-f128-46cc-8e32-f979613bc76c",
   "metadata": {},
   "outputs": [],
   "source": [
    "x = 5"
   ]
  },
  {
   "cell_type": "code",
   "execution_count": 2,
   "id": "b78793c6-577c-4109-9996-67d3c3da6070",
   "metadata": {},
   "outputs": [
    {
     "data": {
      "text/plain": [
       "5"
      ]
     },
     "execution_count": 2,
     "metadata": {},
     "output_type": "execute_result"
    }
   ],
   "source": [
    "x"
   ]
  },
  {
   "cell_type": "code",
   "execution_count": 3,
   "id": "7714a848-3728-4ef1-a301-babb077151fc",
   "metadata": {},
   "outputs": [
    {
     "name": "stdout",
     "output_type": "stream",
     "text": [
      "5\n"
     ]
    }
   ],
   "source": [
    "print (x)"
   ]
  },
  {
   "cell_type": "code",
   "execution_count": 17,
   "id": "d2d0032d-887e-43f3-8d12-14c91b88ff84",
   "metadata": {},
   "outputs": [
    {
     "name": "stdout",
     "output_type": "stream",
     "text": [
      "1\n",
      "2\n",
      "3\n",
      "4\n",
      "5\n"
     ]
    }
   ],
   "source": [
    "for i in [1,2,3,4]:\n",
    "    print (i)\n",
    "\n",
    "for i in [x]:\n",
    "    print(i)\n",
    "\n"
   ]
  },
  {
   "cell_type": "code",
   "execution_count": 8,
   "id": "ba0e1edd-64dd-470b-b412-dc51b71d9c1a",
   "metadata": {},
   "outputs": [],
   "source": [
    "def say_hello(x):\n",
    "    print(\"hello \" + str(x))"
   ]
  },
  {
   "cell_type": "code",
   "execution_count": 9,
   "id": "03be8b97-564c-406c-9114-1353c5814004",
   "metadata": {},
   "outputs": [
    {
     "name": "stdout",
     "output_type": "stream",
     "text": [
      "hello pat\n"
     ]
    }
   ],
   "source": [
    "say_hello(\"pat\")"
   ]
  },
  {
   "cell_type": "code",
   "execution_count": 14,
   "id": "45161aec-86e7-4186-a1e9-d75cb16d2e57",
   "metadata": {},
   "outputs": [],
   "source": [
    "def return_hello(x):\n",
    "    y = \"hello \" + x\n",
    "    return y"
   ]
  },
  {
   "cell_type": "code",
   "execution_count": 18,
   "id": "6572610d-a6a4-4b80-af14-ceb3774ef47e",
   "metadata": {},
   "outputs": [
    {
     "data": {
      "text/plain": [
       "'hello pat'"
      ]
     },
     "execution_count": 18,
     "metadata": {},
     "output_type": "execute_result"
    }
   ],
   "source": [
    "return_hello(\"pat\")"
   ]
  },
  {
   "cell_type": "markdown",
   "id": "f60688f5-c503-4633-873e-2815cec4bb5d",
   "metadata": {},
   "source": [
    "![Image](http://www.personal.kent.edu/~hzhao/advcarto/world.jpeg)"
   ]
  },
  {
   "cell_type": "markdown",
   "id": "92b4c16d-b390-408a-8158-32b3ffc92050",
   "metadata": {},
   "source": [
    "[Link](http://www.personal.kent.edu/~hzhao/advcarto/world.jpeg)"
   ]
  }
 ],
 "metadata": {
  "kernelspec": {
   "display_name": "Python 3 (ipykernel)",
   "language": "python",
   "name": "python3"
  },
  "language_info": {
   "codemirror_mode": {
    "name": "ipython",
    "version": 3
   },
   "file_extension": ".py",
   "mimetype": "text/x-python",
   "name": "python",
   "nbconvert_exporter": "python",
   "pygments_lexer": "ipython3",
   "version": "3.12.1"
  }
 },
 "nbformat": 4,
 "nbformat_minor": 5
}
