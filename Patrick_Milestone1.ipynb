{
 "cells": [
  {
   "cell_type": "code",
   "execution_count": 2,
   "id": "138d9b17-4f21-4fc9-97ef-07724df5a856",
   "metadata": {},
   "outputs": [
    {
     "name": "stdout",
     "output_type": "stream",
     "text": [
      "Patrick_Milestone1.ipynb  \u001b[31mfull_extract.csv\u001b[m\u001b[m*\n"
     ]
    }
   ],
   "source": [
    "ls"
   ]
  },
  {
   "cell_type": "code",
   "execution_count": 3,
   "id": "b4f7c4fb-9571-490e-9f1b-fc4f8a6ff13d",
   "metadata": {},
   "outputs": [],
   "source": [
    "import pandas as pd\n",
    "import plotly.express as px"
   ]
  },
  {
   "cell_type": "code",
   "execution_count": 5,
   "id": "d7af965d-6d42-444f-b2db-4956721741d6",
   "metadata": {},
   "outputs": [
    {
     "data": {
      "text/html": [
       "<div>\n",
       "<style scoped>\n",
       "    .dataframe tbody tr th:only-of-type {\n",
       "        vertical-align: middle;\n",
       "    }\n",
       "\n",
       "    .dataframe tbody tr th {\n",
       "        vertical-align: top;\n",
       "    }\n",
       "\n",
       "    .dataframe thead th {\n",
       "        text-align: right;\n",
       "    }\n",
       "</style>\n",
       "<table border=\"1\" class=\"dataframe\">\n",
       "  <thead>\n",
       "    <tr style=\"text-align: right;\">\n",
       "      <th></th>\n",
       "      <th>StateID</th>\n",
       "      <th>State</th>\n",
       "      <th>TweetID</th>\n",
       "      <th>CreatedDate</th>\n",
       "      <th>Lat</th>\n",
       "      <th>Lon</th>\n",
       "      <th>TwitterUserID</th>\n",
       "      <th>TwitterName</th>\n",
       "      <th>Followers</th>\n",
       "      <th>ShowID</th>\n",
       "      <th>ShowName</th>\n",
       "    </tr>\n",
       "  </thead>\n",
       "  <tbody>\n",
       "    <tr>\n",
       "      <th>0</th>\n",
       "      <td>5</td>\n",
       "      <td>Nevada</td>\n",
       "      <td>450090458492854273</td>\n",
       "      <td>2014-03-29 22:01:42-04:00</td>\n",
       "      <td>36.173445</td>\n",
       "      <td>-115.061502</td>\n",
       "      <td>151680843</td>\n",
       "      <td>NUEMONEY</td>\n",
       "      <td>25485</td>\n",
       "      <td>2</td>\n",
       "      <td>Davincis Demons</td>\n",
       "    </tr>\n",
       "    <tr>\n",
       "      <th>1</th>\n",
       "      <td>7</td>\n",
       "      <td>New York</td>\n",
       "      <td>450089210834612224</td>\n",
       "      <td>2014-03-29 21:56:44-04:00</td>\n",
       "      <td>40.912401</td>\n",
       "      <td>-73.812712</td>\n",
       "      <td>155094607</td>\n",
       "      <td>Richie_Staz</td>\n",
       "      <td>497</td>\n",
       "      <td>2</td>\n",
       "      <td>Davincis Demons</td>\n",
       "    </tr>\n",
       "    <tr>\n",
       "      <th>2</th>\n",
       "      <td>5</td>\n",
       "      <td>Nevada</td>\n",
       "      <td>450108336025780225</td>\n",
       "      <td>2014-03-29 23:12:44-04:00</td>\n",
       "      <td>36.173445</td>\n",
       "      <td>-115.061502</td>\n",
       "      <td>151680843</td>\n",
       "      <td>NUEMONEY</td>\n",
       "      <td>25485</td>\n",
       "      <td>2</td>\n",
       "      <td>Davincis Demons</td>\n",
       "    </tr>\n",
       "    <tr>\n",
       "      <th>3</th>\n",
       "      <td>13</td>\n",
       "      <td>Texas</td>\n",
       "      <td>450072139006099456</td>\n",
       "      <td>2014-03-29 20:48:54-04:00</td>\n",
       "      <td>31.889186</td>\n",
       "      <td>-98.625780</td>\n",
       "      <td>2400672156</td>\n",
       "      <td>JadedSch</td>\n",
       "      <td>23</td>\n",
       "      <td>2</td>\n",
       "      <td>Davincis Demons</td>\n",
       "    </tr>\n",
       "    <tr>\n",
       "      <th>4</th>\n",
       "      <td>29</td>\n",
       "      <td>Georgia</td>\n",
       "      <td>450090930415370240</td>\n",
       "      <td>2014-03-29 22:03:34-04:00</td>\n",
       "      <td>33.777556</td>\n",
       "      <td>-84.384069</td>\n",
       "      <td>526761281</td>\n",
       "      <td>daylabaldwin</td>\n",
       "      <td>31</td>\n",
       "      <td>2</td>\n",
       "      <td>Davincis Demons</td>\n",
       "    </tr>\n",
       "  </tbody>\n",
       "</table>\n",
       "</div>"
      ],
      "text/plain": [
       "   StateID     State             TweetID                CreatedDate  \\\n",
       "0        5    Nevada  450090458492854273  2014-03-29 22:01:42-04:00   \n",
       "1        7  New York  450089210834612224  2014-03-29 21:56:44-04:00   \n",
       "2        5    Nevada  450108336025780225  2014-03-29 23:12:44-04:00   \n",
       "3       13     Texas  450072139006099456  2014-03-29 20:48:54-04:00   \n",
       "4       29   Georgia  450090930415370240  2014-03-29 22:03:34-04:00   \n",
       "\n",
       "         Lat         Lon  TwitterUserID   TwitterName  Followers  ShowID  \\\n",
       "0  36.173445 -115.061502      151680843      NUEMONEY      25485       2   \n",
       "1  40.912401  -73.812712      155094607   Richie_Staz        497       2   \n",
       "2  36.173445 -115.061502      151680843      NUEMONEY      25485       2   \n",
       "3  31.889186  -98.625780     2400672156      JadedSch         23       2   \n",
       "4  33.777556  -84.384069      526761281  daylabaldwin         31       2   \n",
       "\n",
       "          ShowName  \n",
       "0  Davincis Demons  \n",
       "1  Davincis Demons  \n",
       "2  Davincis Demons  \n",
       "3  Davincis Demons  \n",
       "4  Davincis Demons  "
      ]
     },
     "execution_count": 5,
     "metadata": {},
     "output_type": "execute_result"
    }
   ],
   "source": [
    "tt = pd.read_csv('full_extract.csv')\n",
    "tt.head()"
   ]
  },
  {
   "cell_type": "code",
   "execution_count": 6,
   "id": "3b25457e-0a5a-4912-8739-eaee237dd38b",
   "metadata": {},
   "outputs": [
    {
     "name": "stdout",
     "output_type": "stream",
     "text": [
      "Number of entries (rows): 125770\n",
      "Number of features (columns): 11\n"
     ]
    }
   ],
   "source": [
    "print(\"Number of entries (rows):\", tt.shape[0])\n",
    "print(\"Number of features (columns):\", tt.shape[1])"
   ]
  },
  {
   "cell_type": "code",
   "execution_count": 7,
   "id": "f5c88dbb-4fa4-4ef6-810a-ee97c1414839",
   "metadata": {},
   "outputs": [
    {
     "name": "stdout",
     "output_type": "stream",
     "text": [
      "column names: ['StateID', 'State', 'TweetID', 'CreatedDate', 'Lat', 'Lon', 'TwitterUserID', 'TwitterName', 'Followers', 'ShowID', 'ShowName']\n"
     ]
    }
   ],
   "source": [
    "print(\"column names:\", tt.columns.tolist())"
   ]
  },
  {
   "cell_type": "code",
   "execution_count": 8,
   "id": "dca31516-ec19-42d9-8cf4-90319222b4a1",
   "metadata": {},
   "outputs": [
    {
     "name": "stdout",
     "output_type": "stream",
     "text": [
      "Data type of each column:\n",
      "StateID            int64\n",
      "State             object\n",
      "TweetID            int64\n",
      "CreatedDate       object\n",
      "Lat              float64\n",
      "Lon              float64\n",
      "TwitterUserID      int64\n",
      "TwitterName       object\n",
      "Followers          int64\n",
      "ShowID             int64\n",
      "ShowName          object\n",
      "dtype: object\n"
     ]
    }
   ],
   "source": [
    "print(\"Data type of each column:\")\n",
    "print(tt.dtypes)"
   ]
  },
  {
   "cell_type": "code",
   "execution_count": 9,
   "id": "16b37eb6-2c32-4d61-8f45-2751cfc240e4",
   "metadata": {},
   "outputs": [
    {
     "name": "stdout",
     "output_type": "stream",
     "text": [
      "Number of msssing values in each column:\n",
      "StateID          0\n",
      "State            0\n",
      "TweetID          0\n",
      "CreatedDate      0\n",
      "Lat              0\n",
      "Lon              0\n",
      "TwitterUserID    0\n",
      "TwitterName      0\n",
      "Followers        0\n",
      "ShowID           0\n",
      "ShowName         0\n",
      "dtype: int64\n"
     ]
    }
   ],
   "source": [
    "print(\"Number of msssing values in each column:\")\n",
    "print(tt.isnull().sum())"
   ]
  },
  {
   "cell_type": "code",
   "execution_count": 23,
   "id": "06e6abf2-b195-467f-9178-927ca87e13df",
   "metadata": {},
   "outputs": [
    {
     "data": {
      "text/html": [
       "<div>\n",
       "<style scoped>\n",
       "    .dataframe tbody tr th:only-of-type {\n",
       "        vertical-align: middle;\n",
       "    }\n",
       "\n",
       "    .dataframe tbody tr th {\n",
       "        vertical-align: top;\n",
       "    }\n",
       "\n",
       "    .dataframe thead th {\n",
       "        text-align: right;\n",
       "    }\n",
       "</style>\n",
       "<table border=\"1\" class=\"dataframe\">\n",
       "  <thead>\n",
       "    <tr style=\"text-align: right;\">\n",
       "      <th></th>\n",
       "      <th>StateID</th>\n",
       "      <th>State</th>\n",
       "      <th>CreatedDate</th>\n",
       "      <th>Lat</th>\n",
       "      <th>Lon</th>\n",
       "      <th>ShowID</th>\n",
       "      <th>ShowName</th>\n",
       "    </tr>\n",
       "  </thead>\n",
       "  <tbody>\n",
       "    <tr>\n",
       "      <th>0</th>\n",
       "      <td>5</td>\n",
       "      <td>Nevada</td>\n",
       "      <td>2014-03-29 22:01:42-04:00</td>\n",
       "      <td>36.173445</td>\n",
       "      <td>-115.061502</td>\n",
       "      <td>2</td>\n",
       "      <td>Davincis Demons</td>\n",
       "    </tr>\n",
       "    <tr>\n",
       "      <th>1</th>\n",
       "      <td>7</td>\n",
       "      <td>New York</td>\n",
       "      <td>2014-03-29 21:56:44-04:00</td>\n",
       "      <td>40.912401</td>\n",
       "      <td>-73.812712</td>\n",
       "      <td>2</td>\n",
       "      <td>Davincis Demons</td>\n",
       "    </tr>\n",
       "    <tr>\n",
       "      <th>2</th>\n",
       "      <td>5</td>\n",
       "      <td>Nevada</td>\n",
       "      <td>2014-03-29 23:12:44-04:00</td>\n",
       "      <td>36.173445</td>\n",
       "      <td>-115.061502</td>\n",
       "      <td>2</td>\n",
       "      <td>Davincis Demons</td>\n",
       "    </tr>\n",
       "    <tr>\n",
       "      <th>3</th>\n",
       "      <td>13</td>\n",
       "      <td>Texas</td>\n",
       "      <td>2014-03-29 20:48:54-04:00</td>\n",
       "      <td>31.889186</td>\n",
       "      <td>-98.625780</td>\n",
       "      <td>2</td>\n",
       "      <td>Davincis Demons</td>\n",
       "    </tr>\n",
       "    <tr>\n",
       "      <th>4</th>\n",
       "      <td>29</td>\n",
       "      <td>Georgia</td>\n",
       "      <td>2014-03-29 22:03:34-04:00</td>\n",
       "      <td>33.777556</td>\n",
       "      <td>-84.384069</td>\n",
       "      <td>2</td>\n",
       "      <td>Davincis Demons</td>\n",
       "    </tr>\n",
       "  </tbody>\n",
       "</table>\n",
       "</div>"
      ],
      "text/plain": [
       "   StateID     State                CreatedDate        Lat         Lon  \\\n",
       "0        5    Nevada  2014-03-29 22:01:42-04:00  36.173445 -115.061502   \n",
       "1        7  New York  2014-03-29 21:56:44-04:00  40.912401  -73.812712   \n",
       "2        5    Nevada  2014-03-29 23:12:44-04:00  36.173445 -115.061502   \n",
       "3       13     Texas  2014-03-29 20:48:54-04:00  31.889186  -98.625780   \n",
       "4       29   Georgia  2014-03-29 22:03:34-04:00  33.777556  -84.384069   \n",
       "\n",
       "   ShowID         ShowName  \n",
       "0       2  Davincis Demons  \n",
       "1       2  Davincis Demons  \n",
       "2       2  Davincis Demons  \n",
       "3       2  Davincis Demons  \n",
       "4       2  Davincis Demons  "
      ]
     },
     "execution_count": 23,
     "metadata": {},
     "output_type": "execute_result"
    }
   ],
   "source": [
    "tt.head()"
   ]
  },
  {
   "cell_type": "code",
   "execution_count": null,
   "id": "db388085-0fbb-4c2e-8077-232ca2df64bd",
   "metadata": {},
   "outputs": [],
   "source": []
  }
 ],
 "metadata": {
  "kernelspec": {
   "display_name": "Python 3 (ipykernel)",
   "language": "python",
   "name": "python3"
  },
  "language_info": {
   "codemirror_mode": {
    "name": "ipython",
    "version": 3
   },
   "file_extension": ".py",
   "mimetype": "text/x-python",
   "name": "python",
   "nbconvert_exporter": "python",
   "pygments_lexer": "ipython3",
   "version": "3.12.1"
  }
 },
 "nbformat": 4,
 "nbformat_minor": 5
}
