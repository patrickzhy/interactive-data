{
 "cells": [
  {
   "cell_type": "code",
   "execution_count": 1,
   "id": "19789ee3-68cd-4778-8f8f-a7698afc9384",
   "metadata": {},
   "outputs": [],
   "source": [
    "import pandas as pd"
   ]
  },
  {
   "cell_type": "code",
   "execution_count": 2,
   "id": "7ebfd018-4c7c-472c-b678-057daa05b4da",
   "metadata": {},
   "outputs": [
    {
     "data": {
      "text/plain": [
       "pandas.core.frame.DataFrame"
      ]
     },
     "execution_count": 2,
     "metadata": {},
     "output_type": "execute_result"
    }
   ],
   "source": [
    "pd.DataFrame"
   ]
  },
  {
   "cell_type": "code",
   "execution_count": 3,
   "id": "806be139-4b49-4c95-b5d9-4f148b4d7c07",
   "metadata": {},
   "outputs": [],
   "source": [
    "json_option_1 = [{'a':3, 'b':4, 'c':7}, {'a':9, 'b':14, 'c':20}, {'a':12, 'b':81, 'c':120}]"
   ]
  },
  {
   "cell_type": "code",
   "execution_count": 6,
   "id": "7119a402-8b69-47df-935d-356347a8c107",
   "metadata": {},
   "outputs": [
    {
     "data": {
      "text/html": [
       "<div>\n",
       "<style scoped>\n",
       "    .dataframe tbody tr th:only-of-type {\n",
       "        vertical-align: middle;\n",
       "    }\n",
       "\n",
       "    .dataframe tbody tr th {\n",
       "        vertical-align: top;\n",
       "    }\n",
       "\n",
       "    .dataframe thead th {\n",
       "        text-align: right;\n",
       "    }\n",
       "</style>\n",
       "<table border=\"1\" class=\"dataframe\">\n",
       "  <thead>\n",
       "    <tr style=\"text-align: right;\">\n",
       "      <th></th>\n",
       "      <th>a</th>\n",
       "      <th>b</th>\n",
       "      <th>c</th>\n",
       "    </tr>\n",
       "  </thead>\n",
       "  <tbody>\n",
       "    <tr>\n",
       "      <th>0</th>\n",
       "      <td>3</td>\n",
       "      <td>4</td>\n",
       "      <td>7</td>\n",
       "    </tr>\n",
       "    <tr>\n",
       "      <th>1</th>\n",
       "      <td>9</td>\n",
       "      <td>14</td>\n",
       "      <td>20</td>\n",
       "    </tr>\n",
       "    <tr>\n",
       "      <th>2</th>\n",
       "      <td>12</td>\n",
       "      <td>81</td>\n",
       "      <td>120</td>\n",
       "    </tr>\n",
       "  </tbody>\n",
       "</table>\n",
       "</div>"
      ],
      "text/plain": [
       "    a   b    c\n",
       "0   3   4    7\n",
       "1   9  14   20\n",
       "2  12  81  120"
      ]
     },
     "execution_count": 6,
     "metadata": {},
     "output_type": "execute_result"
    }
   ],
   "source": [
    "df_option_1 = pd.DataFrame(json_option_1)\n",
    "df_option_1"
   ]
  },
  {
   "cell_type": "code",
   "execution_count": 7,
   "id": "5a860083-a5b3-4941-ad77-ec5c3f7ed5ca",
   "metadata": {},
   "outputs": [],
   "source": [
    "df_option_1.to_csv('new.csv')"
   ]
  },
  {
   "cell_type": "code",
   "execution_count": 8,
   "id": "ff92728b-48a7-415f-a989-20fc97b22711",
   "metadata": {},
   "outputs": [
    {
     "name": "stdout",
     "output_type": "stream",
     "text": [
      "PatrickZhao_SystemsCheck.ipynb.ipynb  cces_example_data.csv\n",
      "Patrick_Pandas_challenge.ipynb        new.csv\n",
      "Untitled.ipynb                        subset_cces_example_data.csv\n"
     ]
    }
   ],
   "source": [
    "ls"
   ]
  },
  {
   "cell_type": "code",
   "execution_count": 10,
   "id": "89bfdcbb-bfe7-4a64-9bd4-99d879b49e88",
   "metadata": {},
   "outputs": [
    {
     "data": {
      "text/plain": [
       "<bound method NDFrame.head of     a   b    c\n",
       "0   3   4    7\n",
       "1   9  14   20\n",
       "2  12  81  120>"
      ]
     },
     "execution_count": 10,
     "metadata": {},
     "output_type": "execute_result"
    }
   ],
   "source": [
    "df_option_1.head "
   ]
  },
  {
   "cell_type": "code",
   "execution_count": 12,
   "id": "74e66b9a-03af-42c8-a58a-e102e18b3ba9",
   "metadata": {},
   "outputs": [
    {
     "data": {
      "text/plain": [
       "RangeIndex(start=0, stop=3, step=1)"
      ]
     },
     "execution_count": 12,
     "metadata": {},
     "output_type": "execute_result"
    }
   ],
   "source": [
    "df_option_1.index"
   ]
  },
  {
   "cell_type": "code",
   "execution_count": 13,
   "id": "ae7743a2-1885-4e1c-9d74-556da174347a",
   "metadata": {},
   "outputs": [
    {
     "data": {
      "text/plain": [
       "0     3\n",
       "1     9\n",
       "2    12\n",
       "Name: a, dtype: int64"
      ]
     },
     "execution_count": 13,
     "metadata": {},
     "output_type": "execute_result"
    }
   ],
   "source": [
    "df_option_1.iloc[:,0]"
   ]
  },
  {
   "cell_type": "code",
   "execution_count": 14,
   "id": "d69d1574-81ce-4056-a3ad-4b47579b82f4",
   "metadata": {},
   "outputs": [
    {
     "data": {
      "text/plain": [
       "a    3\n",
       "b    4\n",
       "c    7\n",
       "Name: 0, dtype: int64"
      ]
     },
     "execution_count": 14,
     "metadata": {},
     "output_type": "execute_result"
    }
   ],
   "source": [
    "df_option_1.iloc[0]"
   ]
  },
  {
   "cell_type": "markdown",
   "id": "96ecdc07-72be-430e-937e-94cc426d56a3",
   "metadata": {},
   "source": [
    "Based on my own experience, interactive data visualizations allow the targeted audiences to browse through and manipulate the data set at their will. Different from static visualizations that present flat layouts of data, interactive visualization is multidimensional and covers more hierarchical information that static visualizations cannot handle due to their 'display-only' nature. Interactive visualization allows for richer, denser, and more complex data input, presenting the targeted audiences with greater flexibility and in-depth knowledge when browsing the visualized output."
   ]
  },
  {
   "cell_type": "code",
   "execution_count": null,
   "id": "a3db45c6-5d42-43d8-9ef2-f66ecb6a4757",
   "metadata": {},
   "outputs": [],
   "source": []
  }
 ],
 "metadata": {
  "kernelspec": {
   "display_name": "Python 3 (ipykernel)",
   "language": "python",
   "name": "python3"
  },
  "language_info": {
   "codemirror_mode": {
    "name": "ipython",
    "version": 3
   },
   "file_extension": ".py",
   "mimetype": "text/x-python",
   "name": "python",
   "nbconvert_exporter": "python",
   "pygments_lexer": "ipython3",
   "version": "3.12.1"
  }
 },
 "nbformat": 4,
 "nbformat_minor": 5
}
